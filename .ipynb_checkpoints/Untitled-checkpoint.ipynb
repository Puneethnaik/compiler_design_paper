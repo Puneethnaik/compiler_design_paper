{
 "cells": [
  {
   "cell_type": "code",
   "execution_count": 78,
   "metadata": {},
   "outputs": [],
   "source": [
    "import matplotlib.pyplot as plt\n",
    "from matplotlib import style\n",
    "import numpy as np\n",
    "from sklearn import preprocessing, cross_validation\n",
    "import pandas as pd\n",
    "import random\n",
    "import matplotlib.pyplot\n",
    "%matplotlib inline\n",
    "import time\n",
    "#df.convert_objects(co\n",
    "import cv2"
   ]
  },
  {
   "cell_type": "code",
   "execution_count": 96,
   "metadata": {
    "collapsed": true
   },
   "outputs": [],
   "source": [
    "class K_Means_acr:\n",
    "    def __init__(self, k=3, tol=100, max_iter=5):\n",
    "        self.k = k\n",
    "        self.tol = tol\n",
    "        self.max_iter = max_iter\n",
    "        self.dim_cluster = {}\n",
    "        self.classifications = {}\n",
    "        self.centroids = {}\n",
    "    \n",
    "    def fit(self,data):\n",
    "\n",
    "        \n",
    "\n",
    "        for i in range(self.k):\n",
    "            self.centroids[i] = random.sample(list(data), self.k)\n",
    "        settled = [0]*data.shape[0]\n",
    "        \n",
    "        prev_cen = [0]*data.shape[0]\n",
    "        \n",
    "        for k in range(self.max_iter):\n",
    "\n",
    "            for i in range(self.k):\n",
    "                self.classifications[i] = []\n",
    "            fg = False\n",
    "            for i in range(data.shape[0]):\n",
    "                featureset = data[i]\n",
    "                #print(featureset)\n",
    "                #print(self.centroids)\n",
    "                #print(featureset - self.centroids[0], featureset - self.centroids[1], featureset - self.centroids[2])\n",
    "                if settled[i] >= 2:\n",
    "                    self.classifications[prev_cen[i]].append(featureset)\n",
    "                else:\n",
    "                    distances = [np.linalg.norm(featureset-self.centroids[centroid]) for centroid in self.centroids]\n",
    "                    classification = distances.index(min(distances))\n",
    "                    if prev_cen[i] == classification:\n",
    "                        settled[i] += 1\n",
    "                    self.classifications[classification].append(featureset)\n",
    "                #print(distances, featureset, classification)\n",
    "                \n",
    "            #print(\"classif\", len(self.classifications.values()))\n",
    "            prev_centroids = dict(self.centroids)\n",
    "\n",
    "            for classification in self.classifications:\n",
    "                #if settled[classification] <= 5:\n",
    "                self.centroids[classification] = np.average(self.classifications[classification],axis=0)\n",
    "            \n",
    "            optimized = True\n",
    "\n",
    "            for c in self.centroids:\n",
    "                original_centroid = prev_centroids[c]\n",
    "                current_centroid = self.centroids[c]\n",
    "                #print(\"original_cent\", original_centroid)\n",
    "                #print(\"current_cent\", current_centroid)\n",
    "                #if np.sum((current_centroid-original_centroid)/original_centroid*100.0) > self.tol:\n",
    "                #    print(np.sum((current_centroid-original_centroid)/original_centroid*100.0))\n",
    "\n",
    "            #if optimized:\n",
    "             #   break\n",
    "\n",
    "    def predict(self,data):\n",
    "        distances = [np.linalg.norm(data-self.centroids[centroid]) for centroid in self.centroids]\n",
    "        #print(distances)\n",
    "        classification = distances.index(min(distances))\n",
    "        return classification\n",
    "    \n",
    "    def proc_cluster(self):\n",
    "        #dim_cluster = {}\n",
    "        for cluster in self.classifications:\n",
    "            self.dim_cluster[cluster] = np.mean(self.classifications[cluster], axis=0)\n",
    "    def get_dim_cluster(self):\n",
    "        return self.dim_cluster"
   ]
  },
  {
   "cell_type": "code",
   "execution_count": 97,
   "metadata": {
    "collapsed": true
   },
   "outputs": [],
   "source": [
    "class K_Means:\n",
    "    def __init__(self, k=3, tol=100, max_iter=5):\n",
    "        self.k = k\n",
    "        self.tol = tol\n",
    "        self.max_iter = max_iter\n",
    "        self.dim_cluster = {}\n",
    "        self.classifications = {}\n",
    "        self.centroids = {}\n",
    "\n",
    "    def fit(self,data):\n",
    "\n",
    "        \n",
    "\n",
    "        for i in range(self.k):\n",
    "            self.centroids[i] = random.sample(list(data), self.k)\n",
    "        for k in range(self.max_iter):\n",
    "\n",
    "            for i in range(self.k):\n",
    "                self.classifications[i] = []\n",
    "            fg = False\n",
    "            for i in range(data.shape[0]):\n",
    "                featureset = data[i]\n",
    "                #print(featureset)\n",
    "                #print(self.centroids)\n",
    "                #print(featureset - self.centroids[0], featureset - self.centroids[1], featureset - self.centroids[2])\n",
    "                distances = [np.linalg.norm(featureset-self.centroids[centroid]) for centroid in self.centroids]\n",
    "                classification = distances.index(min(distances))\n",
    "                self.classifications[classification].append(featureset)\n",
    "                #print(distances, featureset, classification)\n",
    "                \n",
    "            #print(\"classif\", len(self.classifications.values()))\n",
    "            prev_centroids = dict(self.centroids)\n",
    "\n",
    "            for classification in self.classifications:\n",
    "                #if settled[classification] <= 5:\n",
    "                self.centroids[classification] = np.average(self.classifications[classification],axis=0)\n",
    "            \n",
    "            optimized = True\n",
    "\n",
    "            for c in self.centroids:\n",
    "                original_centroid = prev_centroids[c]\n",
    "                current_centroid = self.centroids[c]\n",
    "                #print(\"original_cent\", original_centroid)\n",
    "                #print(\"current_cent\", current_centroid)\n",
    "                #if np.sum((current_centroid-original_centroid)/original_centroid*100.0) > self.tol:\n",
    "                #    print(np.sum((current_centroid-original_centroid)/original_centroid*100.0))\n",
    "\n",
    "            #if optimized:\n",
    "             #   break\n",
    "\n",
    "    def predict(self,data):\n",
    "        distances = [np.linalg.norm(data-self.centroids[centroid]) for centroid in self.centroids]\n",
    "        #print(distances)\n",
    "        classification = distances.index(min(distances))\n",
    "        return classification\n",
    "    \n",
    "    def proc_cluster(self):\n",
    "        #dim_cluster = {}\n",
    "        for cluster in self.classifications:\n",
    "            self.dim_cluster[cluster] = np.mean(self.classifications[cluster], axis=0)\n",
    "    def get_dim_cluster(self):\n",
    "        return self.dim_cluster"
   ]
  },
  {
   "cell_type": "code",
   "execution_count": 98,
   "metadata": {
    "collapsed": true
   },
   "outputs": [],
   "source": [
    "class TestSolution:\n",
    "    def __init__(self):\n",
    "        self.X = []\n",
    "        self.shapeO = []\n",
    "        self.imageName = \"\"\n",
    "    def process_input(self, imageName):\n",
    "        self.imageName = imageName\n",
    "        self.X = cv2.imread(imageName)\n",
    "        self.shapeO = self.X.shape\n",
    "        self.X = np.reshape(self.X, newshape=[-1, 1, 3])\n",
    "    def time_it(self, clf):\n",
    "        print(\"starting:\")\n",
    "        start = time.time()\n",
    "        clf.fit(self.X)\n",
    "        end = time.time()\n",
    "        print(\"time:\", end-start)\n",
    "    def plot_result(self, model1, model2):\n",
    "        fig, (ax1, ax2, ax3) = plt.subplots(1, 3, figsize=(20, 20))\n",
    "        fig.suptitle(\"Comparison\")\n",
    "        ax1.set_title(\"original image\")\n",
    "        ax1.imshow(np.reshape(self.X, newshape=self.shapeO))\n",
    "        \n",
    "        returnImage = np.zeros_like(self.X)\n",
    "        model1.proc_cluster()\n",
    "        dim_cluster = model1.get_dim_cluster()\n",
    "        print(dim_cluster)\n",
    "        for it in range(X.shape[0]):\n",
    "            returnImage[it] = dim_cluster[model1.predict(self.X[it])]   \n",
    "        arr = np.reshape(returnImage, newshape=self.shapeO)\n",
    "        ax2.set_title(\"original model\")\n",
    "        ax2.imshow(arr)\n",
    "        \n",
    "        returnImage = np.zeros_like(self.X)\n",
    "        model2.proc_cluster()\n",
    "        dim_cluster = model2.get_dim_cluster()\n",
    "        print(dim_cluster)\n",
    "        for it in range(X.shape[0]):\n",
    "            returnImage[it] = dim_cluster[model2.predict(self.X[it])]\n",
    "        arr = np.reshape(returnImage, newshape=self.shapeO)\n",
    "        ax3.set_title(\"acr model\")\n",
    "        ax3.imshow(arr)\n",
    "        \n",
    "    def Main(self, fileName):\n",
    "        self.process_input(fileName)\n",
    "        original = K_Means()\n",
    "        acr = K_Means_acr()\n",
    "        self.time_it(original)\n",
    "        self.time_it(acr)\n",
    "        self.plot_result(original, acr)\n",
    "        print(\"end\")"
   ]
  },
  {
   "cell_type": "code",
   "execution_count": 99,
   "metadata": {},
   "outputs": [
    {
     "name": "stdout",
     "output_type": "stream",
     "text": [
      "starting:\n"
     ]
    },
    {
     "name": "stderr",
     "output_type": "stream",
     "text": [
      "/home/puneeth/miniconda3/lib/python3.6/site-packages/numpy/lib/function_base.py:1110: RuntimeWarning: Mean of empty slice.\n",
      "  avg = a.mean(axis)\n",
      "/home/puneeth/miniconda3/lib/python3.6/site-packages/numpy/core/_methods.py:80: RuntimeWarning: invalid value encountered in double_scalars\n",
      "  ret = ret.dtype.type(ret / rcount)\n"
     ]
    },
    {
     "name": "stdout",
     "output_type": "stream",
     "text": [
      "time: 77.18139815330505\n",
      "starting:\n",
      "time: 57.922630071640015\n"
     ]
    },
    {
     "name": "stderr",
     "output_type": "stream",
     "text": [
      "/home/puneeth/miniconda3/lib/python3.6/site-packages/numpy/core/fromnumeric.py:2909: RuntimeWarning: Mean of empty slice.\n",
      "  out=out, **kwargs)\n"
     ]
    },
    {
     "name": "stdout",
     "output_type": "stream",
     "text": [
      "{0: array([[ 162.85663942,   72.79376936,  162.51244377]]), 1: array([[  2.53271108e+02,   1.31125252e-01,   2.71649234e-01]]), 2: nan}\n",
      "{0: array([[  2.53266121e+02,   1.32758689e-01,   2.75829389e-01]]), 1: nan, 2: array([[ 162.85603428,   72.79655888,  162.5181551 ]])}\n",
      "end\n"
     ]
    },
    {
     "data": {
      "image/png": "[encoded data removed]",
      "text/plain": [
       "<matplotlib.figure.Figure at 0x7f5e2b2abbe0>"
      ]
     },
     "metadata": {},
     "output_type": "display_data"
    }
   ],
   "source": [
    "test = TestSolution()\n",
    "test.Main(\"RubikCube.jpg\")"
   ]
  }
 ],
 "metadata": {
  "kernelspec": {
   "display_name": "Python 3",
   "language": "python",
   "name": "python3"
  },
  "language_info": {
   "codemirror_mode": {
    "name": "ipython",
    "version": 3
   },
   "file_extension": ".py",
   "mimetype": "text/x-python",
   "name": "python",
   "nbconvert_exporter": "python",
   "pygments_lexer": "ipython3",
   "version": "3.6.3"
  }
 },
 "nbformat": 4,
 "nbformat_minor": 2
}
